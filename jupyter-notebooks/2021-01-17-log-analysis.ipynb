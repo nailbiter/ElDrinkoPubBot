{
 "cells": [
  {
   "cell_type": "code",
   "execution_count": null,
   "metadata": {},
   "outputs": [],
   "source": [
    "from common import parse_log\n",
    "logs_df = parse_log([\n",
    "    f\"/Users/nailbiter/Downloads/20210117-eldrinko-log/{fn}\"\n",
    "    for fn in [\"ElDrinkoPubBot_2020-12-30_20:01:46.json\",\"ElDrinkoPubBot_2020-12-26_20:41:22.json\",\"ElDrinkoPubBot_2021-01-15_23:05:09.json\"]\n",
    "])\n",
    "logs_df"
   ]
  },
  {
   "cell_type": "code",
   "execution_count": null,
   "metadata": {
    "scrolled": false
   },
   "outputs": [],
   "source": [
    "from IPython.display import HTML\n",
    "_df = logs_df.copy()\n",
    "_df = _df[[im[\"userData\"].get(\"username\",None)==\"evgeniy_stavitskiy\" for im in _df.im]]\n",
    "HTML(_df.to_html())"
   ]
  },
  {
   "cell_type": "code",
   "execution_count": null,
   "metadata": {
    "scrolled": false
   },
   "outputs": [],
   "source": [
    "from datetime import datetime\n",
    "from IPython.display import HTML\n",
    "\n",
    "logs_df = pd.concat([\n",
    "   pd.read_json( f\"/Users/nailbiter/Downloads/20210117-eldrinko-log/{fn}\",lines=True,orient=\"records\")\n",
    "    for fn in [\"ElDrinkoPubBot_2020-12-30_20:01:46.json\",\"ElDrinkoPubBot_2020-12-26_20:41:22.json\",\"ElDrinkoPubBot_2021-01-15_23:05:09.json\"]\n",
    "])\n",
    "\n",
    "# 2021-01-15 04:53:02\n",
    "logs_df[\"date\"] = logs_df.instant.apply(lambda d: datetime.fromtimestamp(d[\"epochSecond\"]))\n",
    "logs_df = logs_df[[date>=datetime.fromisoformat(\"2021-01-15 04:53:02\") for date in logs_df.date]]\n",
    "logs_df = logs_df.loc[:,\"message source date\".split(\" \")]\n",
    "logs_df = logs_df.set_index(\"date\").sort_index()\n",
    "        \n",
    "HTML(logs_df.to_html())"
   ]
  }
 ],
 "metadata": {
  "kernelspec": {
   "display_name": "Python 3",
   "language": "python",
   "name": "python3"
  },
  "language_info": {
   "codemirror_mode": {
    "name": "ipython",
    "version": 3
   },
   "file_extension": ".py",
   "mimetype": "text/x-python",
   "name": "python",
   "nbconvert_exporter": "python",
   "pygments_lexer": "ipython3",
   "version": "3.8.6"
  }
 },
 "nbformat": 4,
 "nbformat_minor": 4
}
