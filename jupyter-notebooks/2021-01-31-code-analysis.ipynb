{
 "cells": [
  {
   "cell_type": "code",
   "execution_count": 3,
   "metadata": {},
   "outputs": [
    {
     "name": "stdout",
     "output_type": "stream",
     "text": [
      "../src/main/java/nl/insomnia247/nailbiter/eldrinkopubbot/util/TemplateEngine.java\n",
      "../src/main/java/nl/insomnia247/nailbiter/eldrinkopubbot/util/JSONTools.java\n",
      "../src/main/java/nl/insomnia247/nailbiter/eldrinkopubbot/util/Tsv.java\n",
      "../src/main/java/nl/insomnia247/nailbiter/eldrinkopubbot/util/Cache.java\n",
      "../src/main/java/nl/insomnia247/nailbiter/eldrinkopubbot/util/DownloadCache.java\n",
      "../src/main/java/nl/insomnia247/nailbiter/eldrinkopubbot/util/MiscUtils.java\n",
      "../src/main/java/nl/insomnia247/nailbiter/eldrinkopubbot/util/PersistentStorage.java\n",
      "../src/main/java/nl/insomnia247/nailbiter/eldrinkopubbot/util/SecureString.java\n",
      "../src/main/java/nl/insomnia247/nailbiter/eldrinkopubbot/state_machine/ExposedStateMachine.java\n",
      "../src/main/java/nl/insomnia247/nailbiter/eldrinkopubbot/state_machine/StateMachineException.java\n",
      "../src/main/java/nl/insomnia247/nailbiter/eldrinkopubbot/state_machine/StateMachine.java\n",
      "../src/main/java/nl/insomnia247/nailbiter/eldrinkopubbot/mongodb/MongoPersistentStorage.java\n",
      "../src/main/java/nl/insomnia247/nailbiter/eldrinkopubbot/telegram/TelegramKeyboard.java\n",
      "../src/main/java/nl/insomnia247/nailbiter/eldrinkopubbot/telegram/TelegramOutputMessage.java\n",
      "../src/main/java/nl/insomnia247/nailbiter/eldrinkopubbot/telegram/TelegramImageOutputMessage.java\n",
      "../src/main/java/nl/insomnia247/nailbiter/eldrinkopubbot/telegram/UserData.java\n",
      "../src/main/java/nl/insomnia247/nailbiter/eldrinkopubbot/telegram/TelegramTextInputMessage.java\n",
      "../src/main/java/nl/insomnia247/nailbiter/eldrinkopubbot/telegram/TelegramTextOutputMessage.java\n",
      "../src/main/java/nl/insomnia247/nailbiter/eldrinkopubbot/telegram/TelegramKeyboardAnswer.java\n",
      "../src/main/java/nl/insomnia247/nailbiter/eldrinkopubbot/telegram/TelegramInputMessage.java\n",
      "../src/main/java/nl/insomnia247/nailbiter/eldrinkopubbot/model/Message.java\n",
      "../src/main/java/nl/insomnia247/nailbiter/eldrinkopubbot/model/OutputArrayMessage.java\n",
      "../src/main/java/nl/insomnia247/nailbiter/eldrinkopubbot/model/InputMessage.java\n",
      "../src/main/java/nl/insomnia247/nailbiter/eldrinkopubbot/model/Jsonable.java\n",
      "../src/main/java/nl/insomnia247/nailbiter/eldrinkopubbot/model/KeyboardAnswer.java\n",
      "../src/main/java/nl/insomnia247/nailbiter/eldrinkopubbot/model/OutputMessage.java\n",
      "../src/main/java/nl/insomnia247/nailbiter/eldrinkopubbot/model/TextInputMessage.java\n",
      "../src/main/java/nl/insomnia247/nailbiter/eldrinkopubbot/eldrinko/action/ElDrinkoActionInflator.java\n",
      "../src/main/java/nl/insomnia247/nailbiter/eldrinkopubbot/eldrinko/condition/ConjunctionPredicate.java\n",
      "../src/main/java/nl/insomnia247/nailbiter/eldrinkopubbot/eldrinko/condition/ElDrinkoCondition.java\n",
      "../src/main/java/nl/insomnia247/nailbiter/eldrinkopubbot/eldrinko/condition/IsPhoneNumberPredicate.java\n",
      "../src/main/java/nl/insomnia247/nailbiter/eldrinkopubbot/eldrinko/condition/IsHalfIntegerFloatPredicate.java\n",
      "../src/main/java/nl/insomnia247/nailbiter/eldrinkopubbot/eldrinko/condition/JsonCheckFieldPredicate.java\n",
      "../src/main/java/nl/insomnia247/nailbiter/eldrinkopubbot/eldrinko/condition/TrivialPredicate.java\n",
      "../src/main/java/nl/insomnia247/nailbiter/eldrinkopubbot/eldrinko/condition/IsTextMessagePredicate.java\n",
      "../src/main/java/nl/insomnia247/nailbiter/eldrinkopubbot/eldrinko/condition/MessageComparisonPredicate.java\n",
      "../src/main/java/nl/insomnia247/nailbiter/eldrinkopubbot/eldrinko/condition/ElDrinkoConditionInflator.java\n",
      "../src/main/java/nl/insomnia247/nailbiter/eldrinkopubbot/eldrinko/condition/MessageKeyboardComparisonPredicate.java\n",
      "../src/main/java/nl/insomnia247/nailbiter/eldrinkopubbot/eldrinko/condition/NegationPredicate.java\n",
      "../src/main/java/nl/insomnia247/nailbiter/eldrinkopubbot/eldrinko/condition/WidgetPredicate.java\n",
      "../src/main/java/nl/insomnia247/nailbiter/eldrinkopubbot/eldrinko/ElDrinkoInputMessage.java\n",
      "../src/main/java/nl/insomnia247/nailbiter/eldrinkopubbot/eldrinko/ElDrinkoPubBot.java\n",
      "../src/main/java/nl/insomnia247/nailbiter/eldrinkopubbot/eldrinko/ElDrinkoStateMachine.java\n",
      "../src/main/java/nl/insomnia247/nailbiter/eldrinkopubbot/eldrinko/action\n",
      "../src/main/java/nl/insomnia247/nailbiter/eldrinkopubbot/eldrinko/condition\n",
      "../src/main/java/nl/insomnia247/nailbiter/eldrinkopubbot/.App.java.swp\n",
      "../src/main/java/nl/insomnia247/nailbiter/eldrinkopubbot/App.java\n",
      "../src/main/java/nl/insomnia247/nailbiter/eldrinkopubbot/util\n",
      "../src/main/java/nl/insomnia247/nailbiter/eldrinkopubbot/state_machine\n",
      "../src/main/java/nl/insomnia247/nailbiter/eldrinkopubbot/mongodb\n",
      "../src/main/java/nl/insomnia247/nailbiter/eldrinkopubbot/telegram\n",
      "../src/main/java/nl/insomnia247/nailbiter/eldrinkopubbot/model\n",
      "../src/main/java/nl/insomnia247/nailbiter/eldrinkopubbot/eldrinko\n",
      "../src/main/java/nl/insomnia247/nailbiter/eldrinkopubbot\n",
      "../src/main/java/nl/insomnia247/nailbiter\n",
      "../src/main/java/nl/insomnia247\n",
      "../src/main/java/nl\n"
     ]
    }
   ],
   "source": [
    "SOURCE_TREE = \"../src/main/java\"\n",
    "import os\n",
    "\n",
    "for root, dirs, files in os.walk(SOURCE_TREE, topdown=False):\n",
    "    for name in files:\n",
    "        print(os.path.join(root, name))\n",
    "    for name in dirs:\n",
    "        print(os.path.join(root, name))"
   ]
  }
 ],
 "metadata": {
  "kernelspec": {
   "display_name": "Python 3",
   "language": "python",
   "name": "python3"
  },
  "language_info": {
   "codemirror_mode": {
    "name": "ipython",
    "version": 3
   },
   "file_extension": ".py",
   "mimetype": "text/x-python",
   "name": "python",
   "nbconvert_exporter": "python",
   "pygments_lexer": "ipython3",
   "version": "3.8.7"
  }
 },
 "nbformat": 4,
 "nbformat_minor": 4
}
